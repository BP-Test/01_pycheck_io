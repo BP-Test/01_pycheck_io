{
 "cells": [
  {
   "cell_type": "markdown",
   "id": "2602550f-cc66-4214-8d8c-31a9b5c3722d",
   "metadata": {},
   "source": [
    "# days-diff"
   ]
  },
  {
   "cell_type": "markdown",
   "id": "aff937fa-8f47-417a-b5af-a5fd79ca3025",
   "metadata": {},
   "source": [
    "How old are you in a number of days? It's easy to calculate - just subtract your birthday from today. We could make this a real challenge though and count the difference between any dates.\n",
    "\n",
    "You are given two dates as an array with three numbers - a year, month and day. For example: 19 April 1982 will be (1982, 4, 19). You should find the difference in days between the given dates. For example between today and tomorrow = 1 day. The difference will always be either a positive number or zero, so don't forget about the absolute value.\n",
    "\n",
    "Input: Two dates as tuples of integers.\n",
    "\n",
    "Output: The difference between the dates in days as an integer.\n",
    "\n",
    "Example:\n",
    "```python\n",
    "days_diff((1982, 4, 19), (1982, 4, 22)) == 3\n",
    "days_diff((2014, 1, 1), (2014, 8, 27)) == 238\n",
    "\n",
    "```\n",
    "How it is used: Python has batteries included, so in this mission you’ll need to learn how to use completed modules so that you don't have to invent the bicycle all over again.\n",
    "\n",
    "Precondition: Dates between 1 january 1 and 31 december 9999. Dates are correct."
   ]
  },
  {
   "cell_type": "code",
   "execution_count": 1,
   "id": "6bd4233d-ed67-4307-8741-4c6a25bc6ac0",
   "metadata": {},
   "outputs": [],
   "source": [
    "import os\n",
    "import datetime\n",
    "import pandas as pd\n",
    "import numpy as np"
   ]
  },
  {
   "cell_type": "code",
   "execution_count": 2,
   "id": "8b9e0bb8-2e69-4595-a10b-8694a6c985c7",
   "metadata": {},
   "outputs": [],
   "source": [
    "def days_diff(a, b):\n",
    "    result = datetime.date(b[0],b[1],b[2])-datetime.date(a[0],a[1],a[2])\n",
    "    return abs(result.days)\n",
    "\n",
    "\n"
   ]
  },
  {
   "cell_type": "code",
   "execution_count": 3,
   "id": "eac3fa70-0497-4cf7-af45-eaeb016ba9ca",
   "metadata": {},
   "outputs": [
    {
     "data": {
      "text/plain": [
       "2"
      ]
     },
     "execution_count": 3,
     "metadata": {},
     "output_type": "execute_result"
    }
   ],
   "source": [
    "(datetime.date(1982,4,19)-datetime.date(1982,4,17)).days\n"
   ]
  },
  {
   "cell_type": "code",
   "execution_count": 4,
   "id": "ce511804-6038-48cf-abf0-eddb5877214f",
   "metadata": {},
   "outputs": [
    {
     "data": {
      "text/plain": [
       "1982"
      ]
     },
     "execution_count": 4,
     "metadata": {},
     "output_type": "execute_result"
    }
   ],
   "source": [
    "(1982,4,19)[0]"
   ]
  },
  {
   "cell_type": "code",
   "execution_count": 5,
   "id": "757a34b6-7d76-4944-80c9-fa005a5a252d",
   "metadata": {},
   "outputs": [
    {
     "data": {
      "text/plain": [
       "3"
      ]
     },
     "execution_count": 5,
     "metadata": {},
     "output_type": "execute_result"
    }
   ],
   "source": [
    "days_diff((1982, 4, 19), (1982, 4, 22))"
   ]
  },
  {
   "cell_type": "code",
   "execution_count": 6,
   "id": "933f22eb-5254-43ec-b185-178ab8e98bb2",
   "metadata": {},
   "outputs": [
    {
     "name": "stdout",
     "output_type": "stream",
     "text": [
      "Example:\n",
      "3\n",
      "Coding complete? Click 'Check' to earn cool rewards!\n"
     ]
    }
   ],
   "source": [
    "if __name__ == \"__main__\":\n",
    "    print(\"Example:\")\n",
    "    print(days_diff((1982, 4, 19), (1982, 4, 22)))\n",
    "\n",
    "    # These \"asserts\" are used for self-checking and not for an auto-testing\n",
    "    assert days_diff((1982, 4, 19), (1982, 4, 22)) == 3\n",
    "    assert days_diff((2014, 1, 1), (2014, 8, 27)) == 238\n",
    "    assert days_diff((2014, 8, 27), (2014, 1, 1)) == 238\n",
    "    print(\"Coding complete? Click 'Check' to earn cool rewards!\")\n"
   ]
  },
  {
   "cell_type": "code",
   "execution_count": 7,
   "id": "a6977590-2e70-4519-9235-59b7e821d178",
   "metadata": {},
   "outputs": [
    {
     "data": {
      "text/plain": [
       "238"
      ]
     },
     "execution_count": 7,
     "metadata": {},
     "output_type": "execute_result"
    }
   ],
   "source": [
    "days_diff((2014, 8, 27), (2014, 1, 1))"
   ]
  }
 ],
 "metadata": {
  "kernelspec": {
   "display_name": "Python 3 (ipykernel)",
   "language": "python",
   "name": "python3"
  },
  "language_info": {
   "codemirror_mode": {
    "name": "ipython",
    "version": 3
   },
   "file_extension": ".py",
   "mimetype": "text/x-python",
   "name": "python",
   "nbconvert_exporter": "python",
   "pygments_lexer": "ipython3",
   "version": "3.7.11"
  }
 },
 "nbformat": 4,
 "nbformat_minor": 5
}
