{
 "cells": [
  {
   "cell_type": "markdown",
   "id": "3f375eeb-0ca1-47ad-96b0-ed91865276f5",
   "metadata": {},
   "source": [
    "# nearest-value"
   ]
  },
  {
   "cell_type": "markdown",
   "id": "1e20acc4-fcd9-48b3-9d91-8c22c44a01d3",
   "metadata": {},
   "source": [
    "Find the nearest value to the given one.\n",
    "\n",
    "You are given a list of values as set form and a value for which you need to find the nearest one.\n",
    "\n",
    "For example, we have the following set of numbers: 4, 7, 10, 11, 12, 17, and we need to find the nearest value to the number 9. If we sort this set in the ascending order, then to the left of number 9 will be number 7 and to the right - will be number 10. But 10 is closer than 7, which means that the correct answer is 10.\n",
    "\n",
    "A few clarifications:\n",
    "\n",
    "If 2 numbers are at the same distance, you need to choose the smallest one;\n",
    "The set of numbers is always non-empty, i.e. the size is >=1;\n",
    "The given value can be in this set, which means that it’s the answer;\n",
    "The set can contain both positive and negative numbers, but they are always integers;\n",
    "The set isn’t sorted and consists of unique numbers.\n",
    "Input: Two arguments. A list of values in the set form. The sought value is an int.\n",
    "\n",
    "Output: Int.\n",
    "\n",
    "Example:\n",
    "```python\n",
    "nearest_value({4, 7, 10, 11, 12, 17}, 9) == 10\n",
    "nearest_value({4, 7, 10, 11, 12, 17}, 8) == 7\n",
    "```"
   ]
  },
  {
   "cell_type": "code",
   "execution_count": 1,
   "id": "ac1cfe2c-d245-49d9-adbf-b3c885e407b7",
   "metadata": {},
   "outputs": [],
   "source": [
    "def nearest_value(values: set, one: int) -> int:\n",
    "    to_list_ordered = sorted(list(values)) # convert to list and order ascend\n",
    "    list_number = [abs(i-one) for i in to_list_ordered] # get the distance from 'one'\n",
    "    list_number_index = list_number.index(min(list_number)) # get the index that returns the smallest distance\n",
    "    return to_list_ordered[list_number_index] # return that value from to_list_ordered\n",
    "    "
   ]
  },
  {
   "cell_type": "code",
   "execution_count": 2,
   "id": "1520ff72-1dd1-44ea-a05c-3d2d25cc5f6a",
   "metadata": {},
   "outputs": [
    {
     "data": {
      "text/plain": [
       "7"
      ]
     },
     "execution_count": 2,
     "metadata": {},
     "output_type": "execute_result"
    }
   ],
   "source": [
    "nearest_value({4, 10, 7, 11, 12, 17}, 8)"
   ]
  },
  {
   "cell_type": "code",
   "execution_count": 3,
   "id": "23e04332-4466-448e-8cb6-5216a761fb8f",
   "metadata": {},
   "outputs": [
    {
     "name": "stdout",
     "output_type": "stream",
     "text": [
      "[3, 4]\n"
     ]
    }
   ],
   "source": [
    "a = list({4,3})\n",
    "print(sorted(a))"
   ]
  },
  {
   "cell_type": "code",
   "execution_count": 4,
   "id": "3c89f33e-9aac-413f-8b5c-9d5154b9f269",
   "metadata": {},
   "outputs": [
    {
     "data": {
      "text/plain": [
       "[1, 2, 3, 4]"
      ]
     },
     "execution_count": 4,
     "metadata": {},
     "output_type": "execute_result"
    }
   ],
   "source": [
    "list({1,2,3,4})"
   ]
  },
  {
   "cell_type": "code",
   "execution_count": 5,
   "id": "735a2b91-7919-4c3c-9904-ff7708d8126a",
   "metadata": {},
   "outputs": [
    {
     "data": {
      "text/plain": [
       "3"
      ]
     },
     "execution_count": 5,
     "metadata": {},
     "output_type": "execute_result"
    }
   ],
   "source": [
    "nearest_value({1,3,5}, 4)"
   ]
  },
  {
   "cell_type": "code",
   "execution_count": 6,
   "id": "3ad80d0b-2ee6-445d-a6de-333bcd740f8c",
   "metadata": {},
   "outputs": [
    {
     "name": "stdout",
     "output_type": "stream",
     "text": [
      "Example:\n",
      "10\n",
      "Coding complete? Click 'Check' to earn cool rewards!\n"
     ]
    }
   ],
   "source": [
    "if __name__ == '__main__':\n",
    "    print(\"Example:\")\n",
    "    print(nearest_value({4, 7, 10, 11, 12, 17}, 9))\n",
    "\n",
    "    # These \"asserts\" are used for self-checking and not for an auto-testing\n",
    "    assert nearest_value({4, 7, 10, 11, 12, 17}, 9) == 10\n",
    "    assert nearest_value({4, 7, 10, 11, 12, 17}, 8) == 7\n",
    "    assert nearest_value({4, 8, 10, 11, 12, 17}, 9) == 8\n",
    "    assert nearest_value({4, 9, 10, 11, 12, 17}, 9) == 9\n",
    "    assert nearest_value({4, 7, 10, 11, 12, 17}, 0) == 4\n",
    "    assert nearest_value({4, 7, 10, 11, 12, 17}, 100) == 17\n",
    "    assert nearest_value({5, 10, 8, 12, 89, 100}, 7) == 8\n",
    "    assert nearest_value({-1, 2, 3}, 0) == -1\n",
    "    print(\"Coding complete? Click 'Check' to earn cool rewards!\")\n"
   ]
  },
  {
   "cell_type": "code",
   "execution_count": 7,
   "id": "7d190284-b41e-4641-a6f9-beb177d6a12d",
   "metadata": {},
   "outputs": [
    {
     "data": {
      "text/plain": [
       "4"
      ]
     },
     "execution_count": 7,
     "metadata": {},
     "output_type": "execute_result"
    }
   ],
   "source": [
    "nearest_value({4, 6, 10, 11, 12, 17},5)"
   ]
  }
 ],
 "metadata": {
  "kernelspec": {
   "display_name": "Python 3 (ipykernel)",
   "language": "python",
   "name": "python3"
  },
  "language_info": {
   "codemirror_mode": {
    "name": "ipython",
    "version": 3
   },
   "file_extension": ".py",
   "mimetype": "text/x-python",
   "name": "python",
   "nbconvert_exporter": "python",
   "pygments_lexer": "ipython3",
   "version": "3.7.11"
  }
 },
 "nbformat": 4,
 "nbformat_minor": 5
}
