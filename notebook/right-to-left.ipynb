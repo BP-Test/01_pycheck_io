{
 "cells": [
  {
   "cell_type": "markdown",
   "id": "951a5ef3-5d15-42cf-b94b-830381dc8d72",
   "metadata": {},
   "source": [
    "# right-to-left"
   ]
  },
  {
   "cell_type": "markdown",
   "id": "95695878-48e3-4944-8dda-417ce8254647",
   "metadata": {},
   "source": [
    "One of the robots is charged with a simple task: to join a sequence of strings into one sentence to produce instructions on how to get around the ship. But this robot is left-handed and has a tendency to joke around and confuse its right-handed friends.\n",
    "\n",
    "You are given a sequence of strings. You should join these strings into a chunk of text where the initial strings are separated by commas. As a joke on the right handed robots, you should replace all cases of the words \"right\" with the word \"left\", even if it's a part of another word. All strings are given in lowercase.\n",
    "\n",
    "Input: A sequence of strings.\n",
    "\n",
    "Output: The text as a comma-separated string.\n",
    "\n",
    "Example:\n",
    "```python\n",
    "left_join((\"left\", \"right\", \"left\", \"stop\")) == \"left,left,left,stop\"\n",
    "left_join((\"bright aright\", \"ok\")) == \"bleft aleft,ok\"\n",
    "left_join((\"brightness wright\",)) == \"bleftness wleft\"\n",
    "left_join((\"enough\", \"jokes\")) == \"enough,jokes\"\n",
    "```\n",
    "How it is used: This is a simple example of operations using strings and sequences.\n",
    "\n",
    "Precondition:\n",
    "0 < len(phrases) < 42"
   ]
  },
  {
   "cell_type": "code",
   "execution_count": 1,
   "id": "1bfed86e-0ac8-4f40-abc8-e1f884da2f66",
   "metadata": {},
   "outputs": [],
   "source": [
    "import os \n",
    "import pandas as pd\n",
    "import numpy as np"
   ]
  },
  {
   "cell_type": "markdown",
   "id": "f21f3297-293f-42c4-ab1c-86229ecf2bda",
   "metadata": {},
   "source": [
    "## Image Final Result"
   ]
  },
  {
   "cell_type": "code",
   "execution_count": 2,
   "id": "0d8aaffb-558a-4fab-8c54-0558e46fc8e2",
   "metadata": {},
   "outputs": [
    {
     "name": "stdout",
     "output_type": "stream",
     "text": [
      "a,b,c\n"
     ]
    }
   ],
   "source": [
    "### add comma and join\n",
    "l = ['a','b','c'] \n",
    "print(','.join(l))\n"
   ]
  },
  {
   "cell_type": "code",
   "execution_count": 3,
   "id": "6961e5d3-04bb-4b53-91f3-ec976e80ea69",
   "metadata": {},
   "outputs": [
    {
     "name": "stdout",
     "output_type": "stream",
     "text": [
      "['left', 'left', 'left']\n"
     ]
    }
   ],
   "source": [
    "### replace right to left\n",
    "l = ['right','right','left']\n",
    "print([i.replace('right','left') for i in l])"
   ]
  },
  {
   "cell_type": "markdown",
   "id": "1dd283ad-a770-495f-b1b8-dd1a8f1351ba",
   "metadata": {},
   "source": [
    "## left_join Function"
   ]
  },
  {
   "cell_type": "code",
   "execution_count": 4,
   "id": "1dab43f6-d7f9-4e2b-8240-77fa742d278e",
   "metadata": {},
   "outputs": [],
   "source": [
    "### Combine above two\n",
    "def left_join(phrases: list) -> str:\n",
    "    \"\"\"\n",
    "    join into a string seperated by ',' and then replace all 'right' to 'left' \n",
    "    \n",
    "    \"\"\"\n",
    "    comma = ','.join(phrases)\n",
    "    replace = comma.replace('right','left')\n",
    "    return replace"
   ]
  },
  {
   "cell_type": "code",
   "execution_count": 5,
   "id": "5021a5e6-293d-4b08-9c36-7304eb825b79",
   "metadata": {},
   "outputs": [
    {
     "name": "stdout",
     "output_type": "stream",
     "text": [
      "test_1 :left,left,left\n",
      "test_2 :left,left,left,sleft\n"
     ]
    }
   ],
   "source": [
    "print(f'test_1 :{left_join(l)}')\n",
    "l_complicated = ['right','right','left','sright']\n",
    "print(f'test_2 :{left_join(l_complicated)}')"
   ]
  },
  {
   "cell_type": "code",
   "execution_count": 6,
   "id": "25d778fc-ee74-4941-acee-d56a9592542d",
   "metadata": {},
   "outputs": [
    {
     "name": "stdout",
     "output_type": "stream",
     "text": [
      "Example:\n",
      "left,left,left,stop\n",
      "Coding complete? Click 'Check' to review your tests and earn cool rewards!\n"
     ]
    }
   ],
   "source": [
    "if __name__ == \"__main__\":\n",
    "    print(\"Example:\")\n",
    "    print(left_join((\"left\", \"right\", \"left\", \"stop\")))\n",
    "\n",
    "    # These \"asserts\" using only for self-checking and not necessary for auto-testing\n",
    "    assert (\n",
    "        left_join((\"left\", \"right\", \"left\", \"stop\")) == \"left,left,left,stop\"\n",
    "    ), \"All to left\"\n",
    "    assert left_join((\"bright aright\", \"ok\")) == \"bleft aleft,ok\", \"Bright Left\"\n",
    "    assert left_join((\"brightness wright\",)) == \"bleftness wleft\", \"One phrase\"\n",
    "    assert left_join((\"enough\", \"jokes\")) == \"enough,jokes\", \"Nothing to replace\"\n",
    "    print(\"Coding complete? Click 'Check' to review your tests and earn cool rewards!\")\n"
   ]
  }
 ],
 "metadata": {
  "kernelspec": {
   "display_name": "Python 3 (ipykernel)",
   "language": "python",
   "name": "python3"
  },
  "language_info": {
   "codemirror_mode": {
    "name": "ipython",
    "version": 3
   },
   "file_extension": ".py",
   "mimetype": "text/x-python",
   "name": "python",
   "nbconvert_exporter": "python",
   "pygments_lexer": "ipython3",
   "version": "3.7.11"
  }
 },
 "nbformat": 4,
 "nbformat_minor": 5
}
