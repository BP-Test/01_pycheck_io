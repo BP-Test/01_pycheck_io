{
 "cells": [
  {
   "cell_type": "markdown",
   "id": "ce9eb97a-c5b4-4f3d-b1a8-8383b456b0ad",
   "metadata": {
    "tags": []
   },
   "source": [
    "# first-word"
   ]
  },
  {
   "cell_type": "markdown",
   "id": "2688dc54-c6ff-4150-a567-13f9be6af916",
   "metadata": {},
   "source": [
    "You are given a string where you have to find its first word.\n",
    "\n",
    "When solving a task pay attention to the following points:\n",
    "\n",
    "There can be dots and commas in a string.\n",
    "A string can start with a letter or, for example, a dot or space.\n",
    "A word can contain an apostrophe and it's a part of a word.\n",
    "The whole text can be represented with one word and that's it.\n",
    "Input: A string.\n",
    "\n",
    "Output: A string.\n",
    "\n",
    "Example:\n",
    "```python\n",
    "first_word(\"Hello world\") == \"Hello\"\n",
    "first_word(\"greetings, friends\") == \"greetings\"\n",
    "```\n",
    "How it is used: the first word is a command in a command line"
   ]
  },
  {
   "cell_type": "markdown",
   "id": "2c911305-71e0-4503-9807-d721bb6bd2ed",
   "metadata": {},
   "source": [
    "## Expected Results"
   ]
  },
  {
   "cell_type": "code",
   "execution_count": 1,
   "id": "2ce0f4f8-58fa-4007-8794-1b77092f4dac",
   "metadata": {},
   "outputs": [],
   "source": [
    "import pandas as pd\n",
    "import numpy as np\n",
    "import re"
   ]
  },
  {
   "cell_type": "code",
   "execution_count": 2,
   "id": "f2eecaba-028d-40e8-9773-6ec9ae89cd78",
   "metadata": {},
   "outputs": [],
   "source": [
    "def first_word(text: str) -> str:\n",
    "    \"\"\"\n",
    "        returns the first word in a given text.\n",
    "    \"\"\"\n",
    "    # your code here\n",
    "    a = text.split()\n",
    "    a = a[0]\n",
    "    return a\n",
    "\n",
    "\n"
   ]
  },
  {
   "cell_type": "code",
   "execution_count": 3,
   "id": "310fb303-d74d-48f7-94f5-c4f159815d58",
   "metadata": {},
   "outputs": [
    {
     "name": "stdout",
     "output_type": "stream",
     "text": [
      "Hello\n",
      "greetings,: This is not OK\n"
     ]
    }
   ],
   "source": [
    "print(first_word(\"Hello world\"))\n",
    "print(f'{first_word(\"greetings, friends\")}: This is not OK')"
   ]
  },
  {
   "cell_type": "code",
   "execution_count": 4,
   "id": "1498d5e9-db1c-47d6-a7d2-3c28fd7d0601",
   "metadata": {},
   "outputs": [
    {
     "data": {
      "text/plain": [
       "'greetings,'"
      ]
     },
     "execution_count": 4,
     "metadata": {},
     "output_type": "execute_result"
    }
   ],
   "source": [
    "# it's not returning the required output\n",
    "first_word('greetings, firends')"
   ]
  },
  {
   "cell_type": "markdown",
   "id": "16492714-1de6-4f8d-9588-be0c325253a5",
   "metadata": {},
   "source": [
    "## Use Regular Expression package \"re\""
   ]
  },
  {
   "cell_type": "code",
   "execution_count": 5,
   "id": "31fcaedf-0986-4f69-b0ca-45ce115830f3",
   "metadata": {},
   "outputs": [
    {
     "data": {
      "text/plain": [
       "['Hello', 'World']"
      ]
     },
     "execution_count": 5,
     "metadata": {},
     "output_type": "execute_result"
    }
   ],
   "source": [
    "re.findall(r'[a-zA-Z]+', \"Hello.World\")"
   ]
  },
  {
   "cell_type": "code",
   "execution_count": 6,
   "id": "5f83c9bc-086f-46aa-b523-895fcaa54702",
   "metadata": {},
   "outputs": [
    {
     "data": {
      "text/plain": [
       "[\"don't\", 'touch', 'it']"
      ]
     },
     "execution_count": 6,
     "metadata": {},
     "output_type": "execute_result"
    }
   ],
   "source": [
    "re.findall(r\"[a-zA-Z']+\", \"don't touch it\")"
   ]
  },
  {
   "cell_type": "code",
   "execution_count": 7,
   "id": "d820fdf2-ba06-4629-913b-4e5ba8036959",
   "metadata": {},
   "outputs": [
    {
     "data": {
      "text/plain": [
       "'and'"
      ]
     },
     "execution_count": 7,
     "metadata": {},
     "output_type": "execute_result"
    }
   ],
   "source": [
    "re.findall(r\"[a-zA-Z']+\", \"... and so on ...\")[0]"
   ]
  },
  {
   "cell_type": "code",
   "execution_count": 8,
   "id": "3e8900e7-91cc-422a-bf34-39481628c21b",
   "metadata": {},
   "outputs": [],
   "source": [
    "def first_word(text: str) -> str:\n",
    "    \"\"\"\n",
    "        returns the first word in a given text.\n",
    "    \"\"\"\n",
    "    list_text = re.findall(r\"[a-zA-Z']+\",text) # Remove characters that are not [a-zA-Z']\n",
    "    return list_text[0]\n",
    "\n",
    "\n"
   ]
  },
  {
   "cell_type": "code",
   "execution_count": 9,
   "id": "fd63b16a-a3c1-40a0-8c81-aa1128290a73",
   "metadata": {},
   "outputs": [
    {
     "data": {
      "text/plain": [
       "'Hello'"
      ]
     },
     "execution_count": 9,
     "metadata": {},
     "output_type": "execute_result"
    }
   ],
   "source": [
    "first_word(\"Hello world\")"
   ]
  },
  {
   "cell_type": "code",
   "execution_count": 10,
   "id": "396e6d3c-f557-43f8-a534-c62453ca1b94",
   "metadata": {},
   "outputs": [
    {
     "name": "stdout",
     "output_type": "stream",
     "text": [
      "Example:\n",
      "Hello\n",
      "Coding complete? Click 'Check' to earn cool rewards!\n"
     ]
    }
   ],
   "source": [
    "if __name__ == '__main__':\n",
    "    print(\"Example:\")\n",
    "    print(first_word(\"Hello world\"))\n",
    "    \n",
    "    # These \"asserts\" are used for self-checking and not for an auto-testing\n",
    "    assert first_word(\"Hello world\") == \"Hello\"\n",
    "    assert first_word(\" a word \") == \"a\"\n",
    "    assert first_word(\"don't touch it\") == \"don't\"\n",
    "    assert first_word(\"greetings, friends\") == \"greetings\"\n",
    "    assert first_word(\"... and so on ...\") == \"and\"\n",
    "    assert first_word(\"hi\") == \"hi\"\n",
    "    assert first_word(\"Hello.World\") == \"Hello\"\n",
    "    print(\"Coding complete? Click 'Check' to earn cool rewards!\")\n"
   ]
  }
 ],
 "metadata": {
  "kernelspec": {
   "display_name": "Python 3 (ipykernel)",
   "language": "python",
   "name": "python3"
  },
  "language_info": {
   "codemirror_mode": {
    "name": "ipython",
    "version": 3
   },
   "file_extension": ".py",
   "mimetype": "text/x-python",
   "name": "python",
   "nbconvert_exporter": "python",
   "pygments_lexer": "ipython3",
   "version": "3.7.11"
  }
 },
 "nbformat": 4,
 "nbformat_minor": 5
}
