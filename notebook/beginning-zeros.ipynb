{
 "cells": [
  {
   "cell_type": "markdown",
   "id": "95a94b3a-bf9f-4fb0-a7df-87219ae7502d",
   "metadata": {},
   "source": [
    "# beginning-zeros"
   ]
  },
  {
   "cell_type": "markdown",
   "id": "7a07ba3a-137e-453a-8574-cd8f23d9a9f6",
   "metadata": {},
   "source": [
    "You have a string that consist only of digits. You need to find how many zero digits (\"0\") are at the beginning of the given string.\n",
    "\n",
    "Input: A string, that consist of digits.\n",
    "\n",
    "Output: An Int.\n",
    "\n",
    "Example:\n",
    "```python\n",
    "beginning_zeros('100') == 0\n",
    "beginning_zeros('001') == 2\n",
    "beginning_zeros('100100') == 0\n",
    "beginning_zeros('001001') == 2\n",
    "beginning_zeros('012345679') == 1\n",
    "beginning_zeros('0000') == 4\n",
    "```\n",
    "Precondition: 0-9"
   ]
  },
  {
   "cell_type": "code",
   "execution_count": 1,
   "id": "64c60f3f-253f-4715-bb4d-e9062eec8d99",
   "metadata": {},
   "outputs": [],
   "source": [
    "import re\n",
    "def beginning_zeros(string:str)->int:\n",
    "    test = re.findall(r'^0*',string)\n",
    "    if test == ['']:\n",
    "        return 0\n",
    "    else:\n",
    "        return len(str(test))-4\n"
   ]
  },
  {
   "cell_type": "code",
   "execution_count": 2,
   "id": "4037ed90-d224-43e2-90ee-42f117f24857",
   "metadata": {},
   "outputs": [
    {
     "name": "stdout",
     "output_type": "stream",
     "text": [
      "Example:\n",
      "0\n",
      "Coding complete? Click 'Check' to earn cool rewards!\n"
     ]
    }
   ],
   "source": [
    "if __name__ == '__main__':\n",
    "    print(\"Example:\")\n",
    "    print(beginning_zeros('100'))\n",
    "\n",
    "    # These \"asserts\" are used for self-checking and not for an auto-testing\n",
    "    assert beginning_zeros('100') == 0\n",
    "    assert beginning_zeros('001') == 2\n",
    "    assert beginning_zeros('100100') == 0\n",
    "    assert beginning_zeros('001001') == 2\n",
    "    assert beginning_zeros('012345679') == 1\n",
    "    assert beginning_zeros('0000') == 4\n",
    "    print(\"Coding complete? Click 'Check' to earn cool rewards!\")\n"
   ]
  }
 ],
 "metadata": {
  "kernelspec": {
   "display_name": "Python 3 (ipykernel)",
   "language": "python",
   "name": "python3"
  },
  "language_info": {
   "codemirror_mode": {
    "name": "ipython",
    "version": 3
   },
   "file_extension": ".py",
   "mimetype": "text/x-python",
   "name": "python",
   "nbconvert_exporter": "python",
   "pygments_lexer": "ipython3",
   "version": "3.7.11"
  }
 },
 "nbformat": 4,
 "nbformat_minor": 5
}
