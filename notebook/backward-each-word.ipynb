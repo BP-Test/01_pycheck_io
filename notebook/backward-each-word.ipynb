{
 "cells": [
  {
   "cell_type": "markdown",
   "id": "399da6c5-5559-4d15-9232-c6371fd6a044",
   "metadata": {},
   "source": [
    "# backward-each-word"
   ]
  },
  {
   "cell_type": "markdown",
   "id": "470a3a4d-87aa-4e7e-8594-5769e4ae9233",
   "metadata": {},
   "source": [
    "In a given string you should reverse every word, but the words should stay in their places.\n",
    "\n",
    "Input: A string.\n",
    "\n",
    "Output: A string.\n",
    "\n",
    "Example:\n",
    "\n",
    "```python\n",
    "backward_string_by_word('') == ''\n",
    "backward_string_by_word('world') == 'dlrow'\n",
    "backward_string_by_word('hello world') == 'olleh dlrow'\n",
    "backward_string_by_word('hello   world') == 'olleh   dlrow'\n",
    "```\n",
    "Precondition: The line consists only from alphabetical symbols and spaces."
   ]
  },
  {
   "cell_type": "code",
   "execution_count": 1,
   "id": "b7b33bd5-ca10-4f81-9dee-41b764a04e7c",
   "metadata": {},
   "outputs": [],
   "source": [
    "def backward_string_by_word(text:str)->str:\n",
    "    split_text = text.split(' ')\n",
    "    reorder = [i[::-1] for i in split_text]\n",
    "    result = ' '.join(reorder)\n",
    "    return result"
   ]
  },
  {
   "cell_type": "code",
   "execution_count": 2,
   "id": "2832bd0f-936f-4a91-9fc7-93360546ec85",
   "metadata": {},
   "outputs": [
    {
     "data": {
      "text/plain": [
       "'olleh dlrow'"
      ]
     },
     "execution_count": 2,
     "metadata": {},
     "output_type": "execute_result"
    }
   ],
   "source": [
    "backward_string_by_word('hello world')"
   ]
  },
  {
   "cell_type": "code",
   "execution_count": 3,
   "id": "f2554061-7487-4095-a2f7-26717342cef8",
   "metadata": {},
   "outputs": [
    {
     "name": "stdout",
     "output_type": "stream",
     "text": [
      "Example:\n",
      "\n",
      "Coding complete? Click 'Check' to earn cool rewards!\n"
     ]
    }
   ],
   "source": [
    "if __name__ == '__main__':\n",
    "    print(\"Example:\")\n",
    "    print(backward_string_by_word(''))\n",
    "\n",
    "    # These \"asserts\" are used for self-checking and not for an auto-testing\n",
    "    assert backward_string_by_word('') == ''\n",
    "    assert backward_string_by_word('world') == 'dlrow'\n",
    "    assert backward_string_by_word('hello world') == 'olleh dlrow'\n",
    "    assert backward_string_by_word('hello   world') == 'olleh   dlrow'\n",
    "    assert backward_string_by_word('welcome to a game') == 'emoclew ot a emag'\n",
    "    print(\"Coding complete? Click 'Check' to earn cool rewards!\")\n"
   ]
  },
  {
   "cell_type": "code",
   "execution_count": 4,
   "id": "3d77e547-01d9-4a36-9be1-aa6d062871f7",
   "metadata": {},
   "outputs": [
    {
     "data": {
      "text/plain": [
       "'olleh dlrow'"
      ]
     },
     "execution_count": 4,
     "metadata": {},
     "output_type": "execute_result"
    }
   ],
   "source": [
    "backward_string_by_word('hello world')"
   ]
  }
 ],
 "metadata": {
  "kernelspec": {
   "display_name": "Python 3 (ipykernel)",
   "language": "python",
   "name": "python3"
  },
  "language_info": {
   "codemirror_mode": {
    "name": "ipython",
    "version": 3
   },
   "file_extension": ".py",
   "mimetype": "text/x-python",
   "name": "python",
   "nbconvert_exporter": "python",
   "pygments_lexer": "ipython3",
   "version": "3.7.11"
  }
 },
 "nbformat": 4,
 "nbformat_minor": 5
}
