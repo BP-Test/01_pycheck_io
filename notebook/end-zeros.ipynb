{
 "cells": [
  {
   "cell_type": "markdown",
   "id": "4e0f7de1-57b1-4b9a-ad85-72eb3b9dd1c0",
   "metadata": {},
   "source": [
    "# end-zeros"
   ]
  },
  {
   "cell_type": "markdown",
   "id": "653e6efc-a65c-43ec-a125-6a3238b29644",
   "metadata": {},
   "source": [
    "Try to find out how many zeros a given number has at the end.\n",
    "\n",
    "Input: A positive Int\n",
    "\n",
    "Output: An Int.\n",
    "\n",
    "Example:\n",
    "```python\n",
    "end_zeros(0) == 1\n",
    "end_zeros(1) == 0\n",
    "end_zeros(10) == 1\n",
    "end_zeros(101) == 0\n",
    "```"
   ]
  },
  {
   "cell_type": "code",
   "execution_count": 1,
   "id": "a9c70be3-aa42-4628-953a-b40e11ff7afb",
   "metadata": {},
   "outputs": [],
   "source": [
    "import re\n",
    "\n",
    "def end_zeros(num: int) -> int:\n",
    "    end_with_zero = re.findall(r'[0]*[0]$',str(num))\n",
    "    to_str = ''.join(end_with_zero)\n",
    "    # your code here\n",
    "    return len(to_str)\n"
   ]
  },
  {
   "cell_type": "code",
   "execution_count": 2,
   "id": "16e0c8a9-0c60-49ba-acd4-0f7df9c467b0",
   "metadata": {},
   "outputs": [
    {
     "data": {
      "text/plain": [
       "1"
      ]
     },
     "execution_count": 2,
     "metadata": {},
     "output_type": "execute_result"
    }
   ],
   "source": [
    "end_zeros(0)"
   ]
  },
  {
   "cell_type": "code",
   "execution_count": 3,
   "id": "f952d499-10d6-4d92-b903-8949fd19093f",
   "metadata": {},
   "outputs": [
    {
     "name": "stdout",
     "output_type": "stream",
     "text": [
      "Example:\n",
      "1\n",
      "Coding complete? Click 'Check' to earn cool rewards!\n"
     ]
    }
   ],
   "source": [
    "if __name__ == '__main__':\n",
    "    print(\"Example:\")\n",
    "    print(end_zeros(0))\n",
    "\n",
    "    # These \"asserts\" are used for self-checking and not for an auto-testing\n",
    "    assert end_zeros(0) == 1\n",
    "    assert end_zeros(1) == 0\n",
    "    assert end_zeros(10) == 1\n",
    "    assert end_zeros(101) == 0\n",
    "    assert end_zeros(245) == 0\n",
    "    assert end_zeros(100100) == 2\n",
    "    print(\"Coding complete? Click 'Check' to earn cool rewards!\")\n"
   ]
  }
 ],
 "metadata": {
  "kernelspec": {
   "display_name": "Python 3 (ipykernel)",
   "language": "python",
   "name": "python3"
  },
  "language_info": {
   "codemirror_mode": {
    "name": "ipython",
    "version": 3
   },
   "file_extension": ".py",
   "mimetype": "text/x-python",
   "name": "python",
   "nbconvert_exporter": "python",
   "pygments_lexer": "ipython3",
   "version": "3.7.11"
  }
 },
 "nbformat": 4,
 "nbformat_minor": 5
}
