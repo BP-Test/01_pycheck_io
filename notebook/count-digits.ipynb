{
 "cells": [
  {
   "cell_type": "markdown",
   "metadata": {},
   "source": [
    "# counts-digits"
   ]
  },
  {
   "cell_type": "markdown",
   "metadata": {},
   "source": [
    "You need to count the number of digits in a given string.\n",
    "\n",
    "Input: A Str.\n",
    "\n",
    "Output: An Int.\n",
    "\n",
    "Example:\n",
    "```python\n",
    "count_digits('hi') == 0\n",
    "count_digits('who is 1st here') == 1\n",
    "count_digits('my numbers is 2') == 1\n",
    "count_digits('This picture is an oil on canvas '\n",
    " 'painting by Danish artist Anna '\n",
    " 'Petersen between 1845 and 1910 year') == 8\n",
    "count_digits('5 plus 6 is') == 2\n",
    "count_digits('') == 0\n",
    "```"
   ]
  },
  {
   "cell_type": "code",
   "execution_count": 1,
   "metadata": {},
   "outputs": [],
   "source": [
    "import re"
   ]
  },
  {
   "cell_type": "code",
   "execution_count": 2,
   "metadata": {},
   "outputs": [],
   "source": [
    "def count_digits(phrase:str)->int:\n",
    "    phrase_split = re.findall('\\d+',phrase)\n",
    "    result = ''.join(phrase_split) \n",
    "    return len(result)"
   ]
  },
  {
   "cell_type": "code",
   "execution_count": 3,
   "metadata": {},
   "outputs": [
    {
     "data": {
      "text/plain": [
       "2"
      ]
     },
     "execution_count": 3,
     "metadata": {},
     "output_type": "execute_result"
    }
   ],
   "source": [
    "count_digits('hi 34')"
   ]
  },
  {
   "cell_type": "code",
   "execution_count": 4,
   "metadata": {},
   "outputs": [
    {
     "name": "stdout",
     "output_type": "stream",
     "text": [
      "Example:\n",
      "0\n",
      "Coding complete? Click 'Check' to earn cool rewards!\n"
     ]
    }
   ],
   "source": [
    "if __name__ == '__main__':\n",
    "    print(\"Example:\")\n",
    "    print(count_digits('hi'))\n",
    "\n",
    "    # These \"asserts\" are used for self-checking and not for an auto-testing\n",
    "    assert count_digits('hi') == 0\n",
    "    assert count_digits('who is 1st here') == 1\n",
    "    assert count_digits('my numbers is 2') == 1\n",
    "    assert count_digits('This picture is an oil on canvas '\n",
    " 'painting by Danish artist Anna '\n",
    " 'Petersen between 1845 and 1910 year') == 8\n",
    "    assert count_digits('5 plus 6 is') == 2\n",
    "    assert count_digits('') == 0\n",
    "    print(\"Coding complete? Click 'Check' to earn cool rewards!\")"
   ]
  }
 ],
 "metadata": {
  "kernelspec": {
   "display_name": "'Python Interactive'",
   "language": "python",
   "name": "510e4648-5524-4408-82b0-ec4843ab6973"
  },
  "language_info": {
   "codemirror_mode": {
    "name": "ipython",
    "version": 3
   },
   "file_extension": ".py",
   "mimetype": "text/x-python",
   "name": "python",
   "nbconvert_exporter": "python",
   "pygments_lexer": "ipython3",
   "version": "3.7.11"
  }
 },
 "nbformat": 4,
 "nbformat_minor": 4
}
