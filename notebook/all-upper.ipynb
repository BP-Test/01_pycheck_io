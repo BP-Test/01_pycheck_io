{
 "cells": [
  {
   "cell_type": "markdown",
   "id": "00a3a4a5-8f12-4de3-b55a-205bf21f050e",
   "metadata": {},
   "source": [
    "# all-upper"
   ]
  },
  {
   "cell_type": "markdown",
   "id": "b74936a4-34d2-4c46-a81e-4704aa554f6f",
   "metadata": {},
   "source": [
    "Check if a given string has all symbols in upper case. If the string is empty or doesn't have any letter in it - function should return True.\n",
    "\n",
    "Input: A string.\n",
    "\n",
    "Output: a boolean.\n",
    "\n",
    "Example:\n",
    "```python\n",
    "is_all_upper('ALL UPPER') == True\n",
    "is_all_upper('all lower') == False\n",
    "is_all_upper('mixed UPPER and lower') == False\n",
    "is_all_upper('') == True\n",
    "is_all_upper('444') == True\n",
    "is_all_upper('55 55 5') == True\n",
    "```\n",
    "Precondition: a-z, A-Z, 1-9 and spaces\n"
   ]
  },
  {
   "cell_type": "code",
   "execution_count": 1,
   "id": "8a99b586-5633-4851-83e1-6632c013b07a",
   "metadata": {},
   "outputs": [],
   "source": [
    "def is_all_upper(arg:str) -> bool:\n",
    "    condition = arg == str.upper(arg)\n",
    "    return condition"
   ]
  },
  {
   "cell_type": "code",
   "execution_count": 2,
   "id": "c4f1e873-5154-4505-9c19-0ec534b72f2d",
   "metadata": {},
   "outputs": [
    {
     "name": "stdout",
     "output_type": "stream",
     "text": [
      "Example:\n",
      "True\n",
      "Coding complete? Click 'Check' to earn cool rewards!\n"
     ]
    }
   ],
   "source": [
    "if __name__ == '__main__':\n",
    "    print(\"Example:\")\n",
    "    print(is_all_upper('ALL UPPER'))\n",
    "\n",
    "    # These \"asserts\" are used for self-checking and not for an auto-testing\n",
    "    assert is_all_upper('ALL UPPER') == True\n",
    "    assert is_all_upper('all lower') == False\n",
    "    assert is_all_upper('mixed UPPER and lower') == False\n",
    "    assert is_all_upper('') == True\n",
    "    assert is_all_upper('     ') == True\n",
    "    assert is_all_upper('444') == True\n",
    "    assert is_all_upper('55 55 5') == True\n",
    "    print(\"Coding complete? Click 'Check' to earn cool rewards!\")"
   ]
  }
 ],
 "metadata": {
  "kernelspec": {
   "display_name": "Python 3 (ipykernel)",
   "language": "python",
   "name": "python3"
  },
  "language_info": {
   "codemirror_mode": {
    "name": "ipython",
    "version": 3
   },
   "file_extension": ".py",
   "mimetype": "text/x-python",
   "name": "python",
   "nbconvert_exporter": "python",
   "pygments_lexer": "ipython3",
   "version": "3.7.11"
  }
 },
 "nbformat": 4,
 "nbformat_minor": 5
}
