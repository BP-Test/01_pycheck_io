{
 "cells": [
  {
   "cell_type": "markdown",
   "id": "81c92db4-294b-4f8d-9727-334517799637",
   "metadata": {},
   "source": [
    "# Three Words"
   ]
  },
  {
   "cell_type": "markdown",
   "id": "58323ded-2a09-45f6-923c-0008c280331b",
   "metadata": {},
   "source": [
    "Let's teach the Robots to distinguish words and numbers.\n",
    "\n",
    "You are given a string with words and numbers separated by whitespaces (one space). The words contains only letters. You should check if the string contains three words in succession . For example, the string \"start 5 one two three 7 end\" contains three words in succession.\n",
    "\n",
    "Input: A string with words.\n",
    "\n",
    "Output: The answer as a boolean.\n",
    "\n",
    "Example:\n",
    "```python\n",
    "\n",
    "checkio(\"Hello World hello\") == True\n",
    "checkio(\"He is 123 man\") == False\n",
    "checkio(\"1 2 3 4\") == False\n",
    "checkio(\"bla bla bla bla\") == True\n",
    "checkio(\"Hi\") == False\n",
    "```\n",
    "How it is used: This teaches you how to work with strings and introduces some useful functions.\n",
    "\n",
    "Precondition: The input contains words and/or numbers. There are no mixed words (letters and digits combined).\n",
    "0 < len(words) < 100"
   ]
  },
  {
   "cell_type": "markdown",
   "id": "850b6dd6-6805-4e0c-8820-df637b652db2",
   "metadata": {},
   "source": []
  },
  {
   "cell_type": "markdown",
   "id": "4edb37de-0791-4df2-836d-b6caddb930ac",
   "metadata": {},
   "source": []
  },
  {
   "cell_type": "code",
   "execution_count": 1,
   "id": "f62126f4-74bd-41d0-9024-481db4ae0d21",
   "metadata": {},
   "outputs": [],
   "source": [
    "import os\n",
    "import pandas as pd\n",
    "import numpy as np\n"
   ]
  },
  {
   "cell_type": "markdown",
   "id": "69dcab4d-0084-42e4-867d-f122c7ae4a77",
   "metadata": {},
   "source": [
    "## Define a function that tells if a string can be numeric or not"
   ]
  },
  {
   "cell_type": "code",
   "execution_count": 2,
   "id": "dc476f1d-d096-407d-bab7-7b53f0b6fa92",
   "metadata": {},
   "outputs": [],
   "source": [
    "def is_number(s):\n",
    "    try:\n",
    "        float(s)\n",
    "        return True\n",
    "    except ValueError:\n",
    "        return False"
   ]
  },
  {
   "cell_type": "markdown",
   "id": "81b01773-dd8a-4f6e-ab8f-2d4b141bd6db",
   "metadata": {},
   "source": [
    "## Try to generalize the function to a longer string"
   ]
  },
  {
   "cell_type": "code",
   "execution_count": 3,
   "id": "ab0f5eb9-9ec2-4675-97bd-15a17fd08eb3",
   "metadata": {},
   "outputs": [],
   "source": [
    "## This did not work as planned\n",
    "def is_number_generalize(s):\n",
    "    a = 0\n",
    "    for i in range(0,len(s.split())):\n",
    "        try:\n",
    "            float(i)\n",
    "            a +=  a+0\n",
    "        except ValueError:\n",
    "            a += a+1\n",
    "    return a"
   ]
  },
  {
   "cell_type": "code",
   "execution_count": 4,
   "id": "5687a312-3968-44a7-897e-30781cbdc268",
   "metadata": {},
   "outputs": [
    {
     "data": {
      "text/plain": [
       "0"
      ]
     },
     "execution_count": 4,
     "metadata": {},
     "output_type": "execute_result"
    }
   ],
   "source": [
    "is_number_generalize('1234 fa')"
   ]
  },
  {
   "cell_type": "code",
   "execution_count": 5,
   "id": "bcccc045-cce9-4eb8-b9f7-322d4a1eb7ea",
   "metadata": {},
   "outputs": [
    {
     "data": {
      "text/plain": [
       "0"
      ]
     },
     "execution_count": 5,
     "metadata": {},
     "output_type": "execute_result"
    }
   ],
   "source": [
    "is_number_generalize('dafakh adsf')"
   ]
  },
  {
   "cell_type": "markdown",
   "id": "d4e4db0e-6151-4af4-9f6b-81b9ae5d47de",
   "metadata": {},
   "source": [
    "## Idea"
   ]
  },
  {
   "cell_type": "code",
   "execution_count": 6,
   "id": "6596538b-8a67-4317-9f4f-357c2e0acb33",
   "metadata": {},
   "outputs": [
    {
     "data": {
      "text/plain": [
       "6"
      ]
     },
     "execution_count": 6,
     "metadata": {},
     "output_type": "execute_result"
    }
   ],
   "source": [
    "##Random lambda function\n",
    "lambda_function = lambda x: sum(x) if x else 0\n",
    "lambda_function([1,2,3])"
   ]
  },
  {
   "cell_type": "code",
   "execution_count": 7,
   "id": "1f3800e0-7319-4f86-8b70-82672fd08705",
   "metadata": {},
   "outputs": [
    {
     "name": "stdout",
     "output_type": "stream",
     "text": [
      "['adjskf', '1', 'l;a;l']\n",
      "[False, True, False]\n"
     ]
    }
   ],
   "source": [
    "a = 'adjskf 1 l;a;l'.split()\n",
    "print(a)\n",
    "print([is_number(i) for i in a])\n",
    "del a"
   ]
  },
  {
   "cell_type": "code",
   "execution_count": 8,
   "id": "e9c19825-deeb-4c18-9a83-730345962ae5",
   "metadata": {},
   "outputs": [
    {
     "data": {
      "text/plain": [
       "0     NaN\n",
       "1     NaN\n",
       "2     6.0\n",
       "3     9.0\n",
       "4    12.0\n",
       "5    15.0\n",
       "6    18.0\n",
       "7    21.0\n",
       "dtype: float64"
      ]
     },
     "execution_count": 8,
     "metadata": {},
     "output_type": "execute_result"
    }
   ],
   "source": [
    "# Idea - Leverage pd.series rolling function\n",
    "a = pd.Series([1,2,3,4,5,6,7,8])\n",
    "a.rolling(3).sum()"
   ]
  },
  {
   "cell_type": "markdown",
   "id": "596b4dc7-bc1c-4ced-b19f-9d819ae7e72b",
   "metadata": {},
   "source": [
    "## Final Version"
   ]
  },
  {
   "cell_type": "code",
   "execution_count": 9,
   "id": "ace11ce6-10f8-4c8e-8e1e-3b8ff8f3dc01",
   "metadata": {},
   "outputs": [],
   "source": [
    "def checkio(words: str) -> bool:\n",
    "    words_list = words.split() # split words\n",
    "    words_bool = [not is_number(i) for i in words_list] # if i is not a number it returns Ture, else False\n",
    "    words_bool_series = pd.Series(words_bool) # conver to pd.Series\n",
    "    words_bool_rolling = words_bool_series.rolling(3).sum() # get rolling sum. If it is 3 it means there was a sequence of three words\n",
    "    words_bool_rolling = words_bool_rolling.isin([3]) # extract the occation that has 3 consecutive words\n",
    "    three_sequences_counts = words_bool_rolling.sum() # count how many combination of 3 sequence happened\n",
    "    if three_sequences_counts !=0:\n",
    "        return True\n",
    "    else:\n",
    "        return False"
   ]
  },
  {
   "cell_type": "code",
   "execution_count": 10,
   "id": "f39fd5c2-e015-44bd-8b93-35c408a4a986",
   "metadata": {},
   "outputs": [
    {
     "name": "stdout",
     "output_type": "stream",
     "text": [
      "Example:\n",
      "True\n",
      "Coding complete? Click 'Check' to review your tests and earn cool rewards!\n"
     ]
    }
   ],
   "source": [
    "#These \"asserts\" using only for self-checking and not necessary for auto-testing\n",
    "if __name__ == '__main__':\n",
    "    print('Example:')\n",
    "    print(checkio(\"Hello World hello\"))\n",
    "    \n",
    "    assert checkio(\"Hello World hello\") == True, \"Hello\"\n",
    "    assert checkio(\"He is 123 man\") == False, \"123 man\"\n",
    "    assert checkio(\"1 2 3 4\") == False, \"Digits\"\n",
    "    assert checkio(\"bla bla bla bla\") == True, \"Bla Bla\"\n",
    "    assert checkio(\"Hi\") == False, \"Hi\"\n",
    "    print(\"Coding complete? Click 'Check' to review your tests and earn cool rewards!\")\n"
   ]
  },
  {
   "cell_type": "code",
   "execution_count": 11,
   "id": "8f935dd5-3838-43b1-b58f-bcb758475c27",
   "metadata": {},
   "outputs": [
    {
     "data": {
      "text/plain": [
       "False"
      ]
     },
     "execution_count": 11,
     "metadata": {},
     "output_type": "execute_result"
    }
   ],
   "source": [
    "### Should Return False\n",
    "checkio('djfak 11 6 6 6 df sd')"
   ]
  },
  {
   "cell_type": "code",
   "execution_count": 12,
   "id": "dcfecc40-c9d5-4f51-8654-7fd98c5677f7",
   "metadata": {},
   "outputs": [
    {
     "data": {
      "text/plain": [
       "True"
      ]
     },
     "execution_count": 12,
     "metadata": {},
     "output_type": "execute_result"
    }
   ],
   "source": [
    "### Should return True\n",
    "checkio('He is 123 dfjakl man das')"
   ]
  }
 ],
 "metadata": {
  "kernelspec": {
   "display_name": "Python 3 (ipykernel)",
   "language": "python",
   "name": "python3"
  },
  "language_info": {
   "codemirror_mode": {
    "name": "ipython",
    "version": 3
   },
   "file_extension": ".py",
   "mimetype": "text/x-python",
   "name": "python",
   "nbconvert_exporter": "python",
   "pygments_lexer": "ipython3",
   "version": "3.7.11"
  }
 },
 "nbformat": 4,
 "nbformat_minor": 5
}
