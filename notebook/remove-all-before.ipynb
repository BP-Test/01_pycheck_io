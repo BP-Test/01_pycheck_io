{
 "cells": [
  {
   "cell_type": "markdown",
   "id": "b527dfb7-a631-407a-886d-74ee2671c0cc",
   "metadata": {
    "tags": []
   },
   "source": [
    "# remove-all-before"
   ]
  },
  {
   "cell_type": "markdown",
   "id": "b6fec1d6-2058-46fe-a8b6-0a562ca8333c",
   "metadata": {},
   "source": [
    "Not all of the elements are important. What you need to do here is to remove from the list all of the elements before the given one.\n",
    "\n",
    "example\n",
    "\n",
    "For the illustration we have a list [1, 2, 3, 4, 5] and we need to remove all elements that go before 3 - which is 1 and 2.\n",
    "\n",
    "We have two edge cases here: (1) if a cutting element cannot be found, then the list shoudn't be changed. (2) if the list is empty, then it should remain empty.\n",
    "\n",
    "Input: List and the border element.\n",
    "\n",
    "Output: Iterable (tuple, list, iterator ...).\n",
    "\n",
    "Example:\n",
    "```python\n",
    "remove_all_before([1, 2, 3, 4, 5], 3) == [3, 4, 5]\n",
    "remove_all_before([1, 1, 2, 2, 3, 3], 2) == [2, 2, 3, 3]\n",
    "```"
   ]
  },
  {
   "cell_type": "code",
   "execution_count": 1,
   "id": "82ed6cbe-c040-45d6-b7fd-c8bfdae2978e",
   "metadata": {},
   "outputs": [],
   "source": [
    "from typing import Iterable\n",
    "\n",
    "def remove_all_before(items: list, border: int) -> Iterable:\n",
    "    # your code here\n",
    "    try:\n",
    "        border = items.index(border)\n",
    "        return items[border:]\n",
    "    \n",
    "    except :\n",
    "        return items\n",
    "        \n",
    "\n"
   ]
  },
  {
   "cell_type": "code",
   "execution_count": 2,
   "id": "016f044a-502d-4c7a-b063-96993427bf25",
   "metadata": {},
   "outputs": [
    {
     "name": "stdout",
     "output_type": "stream",
     "text": [
      "Example:\n",
      "[3, 4, 5]\n",
      "Coding complete? Click 'Check' to earn cool rewards!\n"
     ]
    }
   ],
   "source": [
    "if __name__ == '__main__':\n",
    "    print(\"Example:\")\n",
    "    print(list(remove_all_before([1, 2, 3, 4, 5], 3)))\n",
    "\n",
    "    # These \"asserts\" are used for self-checking and not for an auto-testing\n",
    "    assert list(remove_all_before([1, 2, 3, 4, 5], 3)) == [3, 4, 5]\n",
    "    assert list(remove_all_before([1, 1, 2, 2, 3, 3], 2)) == [2, 2, 3, 3]\n",
    "    assert list(remove_all_before([1, 1, 2, 4, 2, 3, 4], 2)) == [2, 4, 2, 3, 4]\n",
    "    assert list(remove_all_before([1, 1, 5, 6, 7], 2)) == [1, 1, 5, 6, 7]\n",
    "    assert list(remove_all_before([], 0)) == []\n",
    "    assert list(remove_all_before([7, 7, 7, 7, 7, 7, 7, 7, 7], 7)) == [7, 7, 7, 7, 7, 7, 7, 7, 7]\n",
    "    print(\"Coding complete? Click 'Check' to earn cool rewards!\")\n"
   ]
  },
  {
   "cell_type": "code",
   "execution_count": 3,
   "id": "c64e9092-13f8-4fbc-b32a-ace865a363ab",
   "metadata": {},
   "outputs": [
    {
     "data": {
      "text/plain": [
       "[2, 4, 2, 3, 4]"
      ]
     },
     "execution_count": 3,
     "metadata": {},
     "output_type": "execute_result"
    }
   ],
   "source": [
    "remove_all_before([1, 1, 2, 4, 2, 3, 4], 2)"
   ]
  }
 ],
 "metadata": {
  "kernelspec": {
   "display_name": "Python 3 (ipykernel)",
   "language": "python",
   "name": "python3"
  },
  "language_info": {
   "codemirror_mode": {
    "name": "ipython",
    "version": 3
   },
   "file_extension": ".py",
   "mimetype": "text/x-python",
   "name": "python",
   "nbconvert_exporter": "python",
   "pygments_lexer": "ipython3",
   "version": "3.7.11"
  }
 },
 "nbformat": 4,
 "nbformat_minor": 5
}
