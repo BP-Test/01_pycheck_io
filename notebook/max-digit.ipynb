{
 "cells": [
  {
   "cell_type": "markdown",
   "id": "982a4cdd-ee58-4d1f-8351-ae80ff1cfe8b",
   "metadata": {},
   "source": [
    "# max-digit"
   ]
  },
  {
   "cell_type": "markdown",
   "id": "80488fb9-6333-4c67-86c9-f92f9a0670cd",
   "metadata": {},
   "source": [
    "You have a number and you need to determine which digit in this number is the biggest.\n",
    "\n",
    "Input: A positive int.\n",
    "\n",
    "Output: An Int (0-9).\n",
    "\n",
    "Example:\n",
    "```python\n",
    "max_digit(0) == 0\n",
    "max_digit(52) == 5\n",
    "max_digit(634) == 6\n",
    "max_digit(1) == 1\n",
    "max_digit(10000) == 1\n",
    "```"
   ]
  },
  {
   "cell_type": "code",
   "execution_count": 1,
   "id": "0620c069-6928-406b-95c8-1cdcb3d9094f",
   "metadata": {},
   "outputs": [],
   "source": [
    "def max_digit(number: int) -> int:\n",
    "    a = [int(a) for a in str(number)]\n",
    "    return max(a)"
   ]
  },
  {
   "cell_type": "code",
   "execution_count": 2,
   "id": "dfa7769f-1aa3-48a6-aaf0-e8a2fe857ce7",
   "metadata": {},
   "outputs": [
    {
     "name": "stdout",
     "output_type": "stream",
     "text": [
      "Example:\n",
      "0\n",
      "Coding complete? Click 'Check' to earn cool rewards!\n"
     ]
    }
   ],
   "source": [
    "if __name__ == '__main__':\n",
    "    print(\"Example:\")\n",
    "    print(max_digit(0))\n",
    "\n",
    "    # These \"asserts\" are used for self-checking and not for an auto-testing\n",
    "    assert max_digit(0) == 0\n",
    "    assert max_digit(52) == 5\n",
    "    assert max_digit(634) == 6\n",
    "    assert max_digit(1) == 1\n",
    "    assert max_digit(10000) == 1\n",
    "    print(\"Coding complete? Click 'Check' to earn cool rewards!\")\n"
   ]
  }
 ],
 "metadata": {
  "kernelspec": {
   "display_name": "Python 3 (ipykernel)",
   "language": "python",
   "name": "python3"
  },
  "language_info": {
   "codemirror_mode": {
    "name": "ipython",
    "version": 3
   },
   "file_extension": ".py",
   "mimetype": "text/x-python",
   "name": "python",
   "nbconvert_exporter": "python",
   "pygments_lexer": "ipython3",
   "version": "3.7.11"
  }
 },
 "nbformat": 4,
 "nbformat_minor": 5
}
