{
 "cells": [
  {
   "cell_type": "markdown",
   "id": "67160104-95bf-4237-a195-398091bf9a10",
   "metadata": {},
   "source": [
    "# split-pairs"
   ]
  },
  {
   "cell_type": "markdown",
   "id": "1cb78e2e-d166-4eeb-aa91-a482c2909144",
   "metadata": {},
   "source": [
    "Split the string into pairs of two characters. If the string contains an odd number of characters, then the missing second character of the final pair should be replaced with an underscore ('_').\n",
    "\n",
    "Input: A string.\n",
    "\n",
    "Output: An iterable of strings.\n",
    "\n",
    "Example:\n",
    "\n",
    "```python\n",
    "split_pairs('abcd') == ['ab', 'cd']\n",
    "split_pairs('abc') == ['ab', 'c_']\n",
    "```\n",
    "Precondition: 0<=len(str)<=100"
   ]
  },
  {
   "cell_type": "code",
   "execution_count": 1,
   "id": "3a4e27c5-4f5f-487f-a617-145a95d7190a",
   "metadata": {},
   "outputs": [],
   "source": [
    "def split_pairs(text : str) -> list:\n",
    "    intermediate_list =  [i for i in text]\n",
    "    a = []\n",
    "    for i in range(0,len(intermediate_list),2):\n",
    "        if i == len(intermediate_list)-1:\n",
    "            a.append(''.join(intermediate_list[i]+'_'))\n",
    "        else: \n",
    "            a.append(''.join(intermediate_list[i:i+2]))\n",
    "    if text == []:\n",
    "        return []\n",
    "    else:\n",
    "        return a"
   ]
  },
  {
   "cell_type": "code",
   "execution_count": 2,
   "id": "a3ebdf48-aa56-46d4-965b-b77f78332b50",
   "metadata": {},
   "outputs": [
    {
     "data": {
      "text/plain": [
       "['ab', 'c_']"
      ]
     },
     "execution_count": 2,
     "metadata": {},
     "output_type": "execute_result"
    }
   ],
   "source": [
    "split_pairs('abc')"
   ]
  },
  {
   "cell_type": "code",
   "execution_count": 3,
   "id": "ed1c11de-b5cd-4e75-89e5-17512c689cd5",
   "metadata": {},
   "outputs": [
    {
     "data": {
      "text/plain": [
       "[]"
      ]
     },
     "execution_count": 3,
     "metadata": {},
     "output_type": "execute_result"
    }
   ],
   "source": [
    "split_pairs('')"
   ]
  },
  {
   "cell_type": "code",
   "execution_count": 4,
   "id": "7e72056b-5fa3-4f4f-8712-1026f223e657",
   "metadata": {},
   "outputs": [
    {
     "name": "stdout",
     "output_type": "stream",
     "text": [
      "Example:\n",
      "['ab', 'cd']\n",
      "Coding complete? Click 'Check' to earn cool rewards!\n"
     ]
    }
   ],
   "source": [
    "if __name__ == '__main__':\n",
    "    print(\"Example:\")\n",
    "    print(list(split_pairs('abcd')))\n",
    "\n",
    "    # These \"asserts\" are used for self-checking and not for an auto-testing\n",
    "    assert list(split_pairs('abcd')) == ['ab', 'cd']\n",
    "    assert list(split_pairs('abc')) == ['ab', 'c_']\n",
    "    assert list(split_pairs('abcdf')) == ['ab', 'cd', 'f_']\n",
    "    assert list(split_pairs('a')) == ['a_']\n",
    "    assert list(split_pairs('')) == []\n",
    "    print(\"Coding complete? Click 'Check' to earn cool rewards!\")\n"
   ]
  }
 ],
 "metadata": {
  "kernelspec": {
   "display_name": "Python 3 (ipykernel)",
   "language": "python",
   "name": "python3"
  },
  "language_info": {
   "codemirror_mode": {
    "name": "ipython",
    "version": 3
   },
   "file_extension": ".py",
   "mimetype": "text/x-python",
   "name": "python",
   "nbconvert_exporter": "python",
   "pygments_lexer": "ipython3",
   "version": "3.7.11"
  }
 },
 "nbformat": 4,
 "nbformat_minor": 5
}
