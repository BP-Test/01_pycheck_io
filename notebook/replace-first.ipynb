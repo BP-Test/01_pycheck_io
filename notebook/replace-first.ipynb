{
 "cells": [
  {
   "cell_type": "markdown",
   "id": "43075714-4a84-47f7-98ae-cfc14fc15f2c",
   "metadata": {},
   "source": [
    "# replace-first"
   ]
  },
  {
   "cell_type": "markdown",
   "id": "0046f5d5-46d6-4096-97b2-dba1fbc361fc",
   "metadata": {},
   "source": [
    "In a given list the first element should become the last one. An empty list or list with only one element should stay the same.\n",
    "\n",
    "example\n",
    "\n",
    "Input: List.\n",
    "\n",
    "Output: Iterable.\n",
    "\n",
    "Example:\n",
    "```python\n",
    "replace_first([1, 2, 3, 4]) == [2, 3, 4, 1]\n",
    "replace_first([1]) == [1]\n",
    "```"
   ]
  },
  {
   "cell_type": "code",
   "execution_count": 1,
   "id": "fe85f4f5-a828-4974-ac64-d69e96fc7367",
   "metadata": {},
   "outputs": [],
   "source": [
    "def replace_first(arg : list) -> list:\n",
    "    try:\n",
    "        first_element = arg[0]\n",
    "        arg.pop(0)\n",
    "        arg.append(first_element)\n",
    "        return arg\n",
    "    except:\n",
    "        return arg\n",
    "    "
   ]
  },
  {
   "cell_type": "code",
   "execution_count": 2,
   "id": "d7a8be29-750a-4575-ac6e-55915997f9b2",
   "metadata": {},
   "outputs": [
    {
     "data": {
      "text/plain": [
       "4"
      ]
     },
     "execution_count": 2,
     "metadata": {},
     "output_type": "execute_result"
    }
   ],
   "source": [
    "len([1,2,3,4])"
   ]
  },
  {
   "cell_type": "code",
   "execution_count": 3,
   "id": "670847e7-a154-4390-83c1-904e3d255444",
   "metadata": {},
   "outputs": [
    {
     "data": {
      "text/plain": [
       "[2, 3, 4, 1]"
      ]
     },
     "execution_count": 3,
     "metadata": {},
     "output_type": "execute_result"
    }
   ],
   "source": [
    "replace_first([1,2,3,4])"
   ]
  },
  {
   "cell_type": "code",
   "execution_count": 4,
   "id": "3a940598-30ac-4563-b143-aeae79434d16",
   "metadata": {},
   "outputs": [
    {
     "name": "stdout",
     "output_type": "stream",
     "text": [
      "Example:\n",
      "[2, 3, 4, 1]\n",
      "Coding complete? Click 'Check' to earn cool rewards!\n"
     ]
    }
   ],
   "source": [
    "if __name__ == \"__main__\":\n",
    "    print(\"Example:\")\n",
    "    print(list(replace_first([1, 2, 3, 4])))\n",
    "\n",
    "    # These \"asserts\" are used for self-checking and not for an auto-testing\n",
    "    assert list(replace_first([1, 2, 3, 4])) == [2, 3, 4, 1]\n",
    "    assert list(replace_first([1])) == [1]\n",
    "    assert list(replace_first([])) == []\n",
    "    print(\"Coding complete? Click 'Check' to earn cool rewards!\")"
   ]
  }
 ],
 "metadata": {
  "kernelspec": {
   "display_name": "Python 3 (ipykernel)",
   "language": "python",
   "name": "python3"
  },
  "language_info": {
   "codemirror_mode": {
    "name": "ipython",
    "version": 3
   },
   "file_extension": ".py",
   "mimetype": "text/x-python",
   "name": "python",
   "nbconvert_exporter": "python",
   "pygments_lexer": "ipython3",
   "version": "3.7.11"
  }
 },
 "nbformat": 4,
 "nbformat_minor": 5
}
